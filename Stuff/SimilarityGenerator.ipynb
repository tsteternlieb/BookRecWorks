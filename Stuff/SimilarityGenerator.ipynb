{
 "cells": [
  {
   "cell_type": "markdown",
   "id": "3be07511",
   "metadata": {},
   "source": [
    "# File for defining Similarity\n",
    "### Things we might want: high reviews by same person, same tags..."
   ]
  },
  {
   "cell_type": "code",
   "execution_count": 208,
   "id": "80aac044",
   "metadata": {
    "scrolled": true
   },
   "outputs": [
    {
     "data": {
      "text/plain": [
       "True"
      ]
     },
     "execution_count": 208,
     "metadata": {},
     "output_type": "execute_result"
    }
   ],
   "source": [
    "import pandas as pd\n",
    "import numpy\n",
    "import random\n",
    "import torch\n",
    "from torch.nn import functional as F\n",
    "import numpy as np\n",
    "import collections\n",
    "\n",
    "%run Training.ipynb\n",
    "\n",
    "torch.cuda.is_available()"
   ]
  },
  {
   "cell_type": "code",
   "execution_count": 645,
   "id": "6c8ccd05",
   "metadata": {
    "scrolled": true
   },
   "outputs": [],
   "source": [
    "r = pd.read_csv( 'ratings.csv' )\n",
    "tr = pd.read_csv('to_read.csv')\n",
    "b = pd.read_csv('books.csv')\n",
    "t = pd.read_csv('tags.csv')\n",
    "bt = pd.read_csv('book_tags.csv')\n"
   ]
  },
  {
   "cell_type": "code",
   "execution_count": 646,
   "id": "f411dcb3",
   "metadata": {},
   "outputs": [
    {
     "data": {
      "text/html": [
       "<div>\n",
       "<style scoped>\n",
       "    .dataframe tbody tr th:only-of-type {\n",
       "        vertical-align: middle;\n",
       "    }\n",
       "\n",
       "    .dataframe tbody tr th {\n",
       "        vertical-align: top;\n",
       "    }\n",
       "\n",
       "    .dataframe thead th {\n",
       "        text-align: right;\n",
       "    }\n",
       "</style>\n",
       "<table border=\"1\" class=\"dataframe\">\n",
       "  <thead>\n",
       "    <tr style=\"text-align: right;\">\n",
       "      <th></th>\n",
       "      <th>goodreads_book_id</th>\n",
       "      <th>tag_id</th>\n",
       "      <th>count</th>\n",
       "      <th>title</th>\n",
       "    </tr>\n",
       "  </thead>\n",
       "  <tbody>\n",
       "    <tr>\n",
       "      <th>0</th>\n",
       "      <td>1</td>\n",
       "      <td>30574</td>\n",
       "      <td>167697</td>\n",
       "      <td>Harry Potter and the Half-Blood Prince (Harry ...</td>\n",
       "    </tr>\n",
       "    <tr>\n",
       "      <th>1</th>\n",
       "      <td>1</td>\n",
       "      <td>11305</td>\n",
       "      <td>37174</td>\n",
       "      <td>Harry Potter and the Half-Blood Prince (Harry ...</td>\n",
       "    </tr>\n",
       "    <tr>\n",
       "      <th>2</th>\n",
       "      <td>1</td>\n",
       "      <td>11557</td>\n",
       "      <td>34173</td>\n",
       "      <td>Harry Potter and the Half-Blood Prince (Harry ...</td>\n",
       "    </tr>\n",
       "    <tr>\n",
       "      <th>3</th>\n",
       "      <td>1</td>\n",
       "      <td>8717</td>\n",
       "      <td>12986</td>\n",
       "      <td>Harry Potter and the Half-Blood Prince (Harry ...</td>\n",
       "    </tr>\n",
       "    <tr>\n",
       "      <th>4</th>\n",
       "      <td>1</td>\n",
       "      <td>33114</td>\n",
       "      <td>12716</td>\n",
       "      <td>Harry Potter and the Half-Blood Prince (Harry ...</td>\n",
       "    </tr>\n",
       "    <tr>\n",
       "      <th>...</th>\n",
       "      <td>...</td>\n",
       "      <td>...</td>\n",
       "      <td>...</td>\n",
       "      <td>...</td>\n",
       "    </tr>\n",
       "    <tr>\n",
       "      <th>999907</th>\n",
       "      <td>33288638</td>\n",
       "      <td>21303</td>\n",
       "      <td>7</td>\n",
       "      <td>Wait for It</td>\n",
       "    </tr>\n",
       "    <tr>\n",
       "      <th>999908</th>\n",
       "      <td>33288638</td>\n",
       "      <td>17271</td>\n",
       "      <td>7</td>\n",
       "      <td>Wait for It</td>\n",
       "    </tr>\n",
       "    <tr>\n",
       "      <th>999909</th>\n",
       "      <td>33288638</td>\n",
       "      <td>1126</td>\n",
       "      <td>7</td>\n",
       "      <td>Wait for It</td>\n",
       "    </tr>\n",
       "    <tr>\n",
       "      <th>999910</th>\n",
       "      <td>33288638</td>\n",
       "      <td>11478</td>\n",
       "      <td>7</td>\n",
       "      <td>Wait for It</td>\n",
       "    </tr>\n",
       "    <tr>\n",
       "      <th>999911</th>\n",
       "      <td>33288638</td>\n",
       "      <td>27939</td>\n",
       "      <td>7</td>\n",
       "      <td>Wait for It</td>\n",
       "    </tr>\n",
       "  </tbody>\n",
       "</table>\n",
       "<p>999912 rows × 4 columns</p>\n",
       "</div>"
      ],
      "text/plain": [
       "        goodreads_book_id  tag_id   count  \\\n",
       "0                       1   30574  167697   \n",
       "1                       1   11305   37174   \n",
       "2                       1   11557   34173   \n",
       "3                       1    8717   12986   \n",
       "4                       1   33114   12716   \n",
       "...                   ...     ...     ...   \n",
       "999907           33288638   21303       7   \n",
       "999908           33288638   17271       7   \n",
       "999909           33288638    1126       7   \n",
       "999910           33288638   11478       7   \n",
       "999911           33288638   27939       7   \n",
       "\n",
       "                                                    title  \n",
       "0       Harry Potter and the Half-Blood Prince (Harry ...  \n",
       "1       Harry Potter and the Half-Blood Prince (Harry ...  \n",
       "2       Harry Potter and the Half-Blood Prince (Harry ...  \n",
       "3       Harry Potter and the Half-Blood Prince (Harry ...  \n",
       "4       Harry Potter and the Half-Blood Prince (Harry ...  \n",
       "...                                                   ...  \n",
       "999907                                        Wait for It  \n",
       "999908                                        Wait for It  \n",
       "999909                                        Wait for It  \n",
       "999910                                        Wait for It  \n",
       "999911                                        Wait for It  \n",
       "\n",
       "[999912 rows x 4 columns]"
      ]
     },
     "execution_count": 646,
     "metadata": {},
     "output_type": "execute_result"
    }
   ],
   "source": [
    "bt = bt.merge(b[['goodreads_book_id','title']], on = 'goodreads_book_id')\n",
    "bt.loc[bt['count'] < 0, 'count'] = 0\n",
    "bt"
   ]
  },
  {
   "cell_type": "code",
   "execution_count": 6,
   "id": "f0690aea",
   "metadata": {},
   "outputs": [],
   "source": [
    "r_high = r[r['rating']>3]\n",
    "r_high_by_user = r_high.sort_values('user_id')"
   ]
  },
  {
   "cell_type": "code",
   "execution_count": 19,
   "id": "46d6badb",
   "metadata": {},
   "outputs": [
    {
     "data": {
      "text/plain": [
       "4122111"
      ]
     },
     "execution_count": 19,
     "metadata": {},
     "output_type": "execute_result"
    }
   ],
   "source": [
    "len(r_high_by_user)"
   ]
  },
  {
   "cell_type": "code",
   "execution_count": 7,
   "id": "891e3c00",
   "metadata": {},
   "outputs": [
    {
     "data": {
      "text/plain": [
       "user_id      1\n",
       "book_id    258\n",
       "rating       5\n",
       "Name: 0, dtype: int64"
      ]
     },
     "execution_count": 7,
     "metadata": {},
     "output_type": "execute_result"
    }
   ],
   "source": [
    "r_high_by_user.loc[0]"
   ]
  },
  {
   "cell_type": "code",
   "execution_count": 36,
   "id": "e2fd839f",
   "metadata": {},
   "outputs": [
    {
     "data": {
      "text/html": [
       "<div>\n",
       "<style scoped>\n",
       "    .dataframe tbody tr th:only-of-type {\n",
       "        vertical-align: middle;\n",
       "    }\n",
       "\n",
       "    .dataframe tbody tr th {\n",
       "        vertical-align: top;\n",
       "    }\n",
       "\n",
       "    .dataframe thead th {\n",
       "        text-align: right;\n",
       "    }\n",
       "</style>\n",
       "<table border=\"1\" class=\"dataframe\">\n",
       "  <thead>\n",
       "    <tr style=\"text-align: right;\">\n",
       "      <th></th>\n",
       "      <th>user_id</th>\n",
       "      <th>book_id</th>\n",
       "      <th>rating</th>\n",
       "    </tr>\n",
       "  </thead>\n",
       "  <tbody>\n",
       "    <tr>\n",
       "      <th>0</th>\n",
       "      <td>1</td>\n",
       "      <td>258</td>\n",
       "      <td>5</td>\n",
       "    </tr>\n",
       "    <tr>\n",
       "      <th>1936401</th>\n",
       "      <td>1</td>\n",
       "      <td>2770</td>\n",
       "      <td>4</td>\n",
       "    </tr>\n",
       "    <tr>\n",
       "      <th>1936403</th>\n",
       "      <td>1</td>\n",
       "      <td>198</td>\n",
       "      <td>4</td>\n",
       "    </tr>\n",
       "    <tr>\n",
       "      <th>1936419</th>\n",
       "      <td>1</td>\n",
       "      <td>1761</td>\n",
       "      <td>4</td>\n",
       "    </tr>\n",
       "    <tr>\n",
       "      <th>1936422</th>\n",
       "      <td>1</td>\n",
       "      <td>128</td>\n",
       "      <td>5</td>\n",
       "    </tr>\n",
       "    <tr>\n",
       "      <th>...</th>\n",
       "      <td>...</td>\n",
       "      <td>...</td>\n",
       "      <td>...</td>\n",
       "    </tr>\n",
       "    <tr>\n",
       "      <th>5404296</th>\n",
       "      <td>53424</td>\n",
       "      <td>9255</td>\n",
       "      <td>4</td>\n",
       "    </tr>\n",
       "    <tr>\n",
       "      <th>5404364</th>\n",
       "      <td>53424</td>\n",
       "      <td>43</td>\n",
       "      <td>5</td>\n",
       "    </tr>\n",
       "    <tr>\n",
       "      <th>5404333</th>\n",
       "      <td>53424</td>\n",
       "      <td>17</td>\n",
       "      <td>4</td>\n",
       "    </tr>\n",
       "    <tr>\n",
       "      <th>5404301</th>\n",
       "      <td>53424</td>\n",
       "      <td>4645</td>\n",
       "      <td>5</td>\n",
       "    </tr>\n",
       "    <tr>\n",
       "      <th>5404311</th>\n",
       "      <td>53424</td>\n",
       "      <td>24</td>\n",
       "      <td>5</td>\n",
       "    </tr>\n",
       "  </tbody>\n",
       "</table>\n",
       "<p>4122111 rows × 3 columns</p>\n",
       "</div>"
      ],
      "text/plain": [
       "         user_id  book_id  rating\n",
       "0              1      258       5\n",
       "1936401        1     2770       4\n",
       "1936403        1      198       4\n",
       "1936419        1     1761       4\n",
       "1936422        1      128       5\n",
       "...          ...      ...     ...\n",
       "5404296    53424     9255       4\n",
       "5404364    53424       43       5\n",
       "5404333    53424       17       4\n",
       "5404301    53424     4645       5\n",
       "5404311    53424       24       5\n",
       "\n",
       "[4122111 rows x 3 columns]"
      ]
     },
     "execution_count": 36,
     "metadata": {},
     "output_type": "execute_result"
    }
   ],
   "source": [
    "r_high_by_user"
   ]
  },
  {
   "cell_type": "code",
   "execution_count": 35,
   "id": "4da6085d",
   "metadata": {},
   "outputs": [
    {
     "data": {
      "text/plain": [
       "(1, 2770)"
      ]
     },
     "execution_count": 35,
     "metadata": {},
     "output_type": "execute_result"
    }
   ],
   "source": [
    "list(zip(r_high_by_user.user_id,r_high_by_user.book_id))[1]"
   ]
  },
  {
   "cell_type": "code",
   "execution_count": 33,
   "id": "6ae09b42",
   "metadata": {},
   "outputs": [
    {
     "data": {
      "text/plain": [
       "user_id       2\n",
       "book_id    4081\n",
       "rating        4\n",
       "Name: 1, dtype: int64"
      ]
     },
     "execution_count": 33,
     "metadata": {},
     "output_type": "execute_result"
    }
   ],
   "source": [
    "r_high_by_user.loc[1]"
   ]
  },
  {
   "cell_type": "code",
   "execution_count": 28,
   "id": "396b38a6",
   "metadata": {},
   "outputs": [
    {
     "data": {
      "text/plain": [
       "53406"
      ]
     },
     "execution_count": 28,
     "metadata": {},
     "output_type": "execute_result"
    }
   ],
   "source": [
    "user_book_dict = dict.fromkeys(r_high_by_user.user_id.unique(),[])\n",
    "len(user_book_dict)"
   ]
  },
  {
   "cell_type": "code",
   "execution_count": 757,
   "id": "f6146b9f",
   "metadata": {},
   "outputs": [
    {
     "data": {
      "text/plain": [
       "user_id      1\n",
       "book_id    258\n",
       "rating       5\n",
       "Name: 0, dtype: int64"
      ]
     },
     "execution_count": 757,
     "metadata": {},
     "output_type": "execute_result"
    }
   ],
   "source": [
    "r_high_by_user.loc[0]"
   ]
  },
  {
   "cell_type": "code",
   "execution_count": 751,
   "id": "4c42842f",
   "metadata": {},
   "outputs": [
    {
     "data": {
      "text/plain": [
       "Index(['book_id'], dtype='object')"
      ]
     },
     "execution_count": 751,
     "metadata": {},
     "output_type": "execute_result"
    }
   ],
   "source": [
    "r_high_by_user.columns"
   ]
  },
  {
   "cell_type": "code",
   "execution_count": 196,
   "id": "545424b6",
   "metadata": {},
   "outputs": [
    {
     "data": {
      "text/html": [
       "<div>\n",
       "<style scoped>\n",
       "    .dataframe tbody tr th:only-of-type {\n",
       "        vertical-align: middle;\n",
       "    }\n",
       "\n",
       "    .dataframe tbody tr th {\n",
       "        vertical-align: top;\n",
       "    }\n",
       "\n",
       "    .dataframe thead th {\n",
       "        text-align: right;\n",
       "    }\n",
       "</style>\n",
       "<table border=\"1\" class=\"dataframe\">\n",
       "  <thead>\n",
       "    <tr style=\"text-align: right;\">\n",
       "      <th></th>\n",
       "      <th>user_id</th>\n",
       "      <th>book_id</th>\n",
       "    </tr>\n",
       "  </thead>\n",
       "  <tbody>\n",
       "    <tr>\n",
       "      <th>0</th>\n",
       "      <td>1</td>\n",
       "      <td>258</td>\n",
       "    </tr>\n",
       "    <tr>\n",
       "      <th>1936401</th>\n",
       "      <td>1</td>\n",
       "      <td>2770</td>\n",
       "    </tr>\n",
       "    <tr>\n",
       "      <th>1936403</th>\n",
       "      <td>1</td>\n",
       "      <td>198</td>\n",
       "    </tr>\n",
       "    <tr>\n",
       "      <th>1936419</th>\n",
       "      <td>1</td>\n",
       "      <td>1761</td>\n",
       "    </tr>\n",
       "    <tr>\n",
       "      <th>1936422</th>\n",
       "      <td>1</td>\n",
       "      <td>128</td>\n",
       "    </tr>\n",
       "    <tr>\n",
       "      <th>...</th>\n",
       "      <td>...</td>\n",
       "      <td>...</td>\n",
       "    </tr>\n",
       "    <tr>\n",
       "      <th>5404296</th>\n",
       "      <td>53424</td>\n",
       "      <td>9255</td>\n",
       "    </tr>\n",
       "    <tr>\n",
       "      <th>5404364</th>\n",
       "      <td>53424</td>\n",
       "      <td>43</td>\n",
       "    </tr>\n",
       "    <tr>\n",
       "      <th>5404333</th>\n",
       "      <td>53424</td>\n",
       "      <td>17</td>\n",
       "    </tr>\n",
       "    <tr>\n",
       "      <th>5404301</th>\n",
       "      <td>53424</td>\n",
       "      <td>4645</td>\n",
       "    </tr>\n",
       "    <tr>\n",
       "      <th>5404311</th>\n",
       "      <td>53424</td>\n",
       "      <td>24</td>\n",
       "    </tr>\n",
       "  </tbody>\n",
       "</table>\n",
       "<p>4122111 rows × 2 columns</p>\n",
       "</div>"
      ],
      "text/plain": [
       "         user_id  book_id\n",
       "0              1      258\n",
       "1936401        1     2770\n",
       "1936403        1      198\n",
       "1936419        1     1761\n",
       "1936422        1      128\n",
       "...          ...      ...\n",
       "5404296    53424     9255\n",
       "5404364    53424       43\n",
       "5404333    53424       17\n",
       "5404301    53424     4645\n",
       "5404311    53424       24\n",
       "\n",
       "[4122111 rows x 2 columns]"
      ]
     },
     "execution_count": 196,
     "metadata": {},
     "output_type": "execute_result"
    }
   ],
   "source": [
    "r_high_by_user = r_high_by_user[['user_id','book_id']]\n",
    "r_high_by_user"
   ]
  },
  {
   "cell_type": "code",
   "execution_count": 123,
   "id": "930b2a0d",
   "metadata": {},
   "outputs": [],
   "source": [
    "# r_high_by_user['book_id'] = r_high_by_user['book_id'].apply(lambda x: [x])"
   ]
  },
  {
   "cell_type": "code",
   "execution_count": 239,
   "id": "96a89fb2",
   "metadata": {
    "scrolled": true
   },
   "outputs": [
    {
     "data": {
      "text/html": [
       "<div>\n",
       "<style scoped>\n",
       "    .dataframe tbody tr th:only-of-type {\n",
       "        vertical-align: middle;\n",
       "    }\n",
       "\n",
       "    .dataframe tbody tr th {\n",
       "        vertical-align: top;\n",
       "    }\n",
       "\n",
       "    .dataframe thead th {\n",
       "        text-align: right;\n",
       "    }\n",
       "</style>\n",
       "<table border=\"1\" class=\"dataframe\">\n",
       "  <thead>\n",
       "    <tr style=\"text-align: right;\">\n",
       "      <th></th>\n",
       "      <th>book_id</th>\n",
       "    </tr>\n",
       "    <tr>\n",
       "      <th>user_id</th>\n",
       "      <th></th>\n",
       "    </tr>\n",
       "  </thead>\n",
       "  <tbody>\n",
       "    <tr>\n",
       "      <th>1</th>\n",
       "      <td>258</td>\n",
       "    </tr>\n",
       "    <tr>\n",
       "      <th>1</th>\n",
       "      <td>2770</td>\n",
       "    </tr>\n",
       "    <tr>\n",
       "      <th>1</th>\n",
       "      <td>198</td>\n",
       "    </tr>\n",
       "    <tr>\n",
       "      <th>1</th>\n",
       "      <td>1761</td>\n",
       "    </tr>\n",
       "    <tr>\n",
       "      <th>1</th>\n",
       "      <td>128</td>\n",
       "    </tr>\n",
       "    <tr>\n",
       "      <th>...</th>\n",
       "      <td>...</td>\n",
       "    </tr>\n",
       "    <tr>\n",
       "      <th>1</th>\n",
       "      <td>901</td>\n",
       "    </tr>\n",
       "    <tr>\n",
       "      <th>2</th>\n",
       "      <td>27</td>\n",
       "    </tr>\n",
       "    <tr>\n",
       "      <th>2</th>\n",
       "      <td>9762</td>\n",
       "    </tr>\n",
       "    <tr>\n",
       "      <th>2</th>\n",
       "      <td>236</td>\n",
       "    </tr>\n",
       "    <tr>\n",
       "      <th>2</th>\n",
       "      <td>8855</td>\n",
       "    </tr>\n",
       "  </tbody>\n",
       "</table>\n",
       "<p>65 rows × 1 columns</p>\n",
       "</div>"
      ],
      "text/plain": [
       "         book_id\n",
       "user_id         \n",
       "1            258\n",
       "1           2770\n",
       "1            198\n",
       "1           1761\n",
       "1            128\n",
       "...          ...\n",
       "1            901\n",
       "2             27\n",
       "2           9762\n",
       "2            236\n",
       "2           8855\n",
       "\n",
       "[65 rows x 1 columns]"
      ]
     },
     "execution_count": 239,
     "metadata": {},
     "output_type": "execute_result"
    }
   ],
   "source": [
    "r_high_by_user.head(65)"
   ]
  },
  {
   "cell_type": "code",
   "execution_count": 197,
   "id": "e2408165",
   "metadata": {
    "scrolled": true
   },
   "outputs": [],
   "source": [
    "r_high_by_user.set_index('user_id',inplace=True)"
   ]
  },
  {
   "cell_type": "code",
   "execution_count": 312,
   "id": "4029ca16",
   "metadata": {},
   "outputs": [
    {
     "data": {
      "text/plain": [
       "193"
      ]
     },
     "execution_count": 312,
     "metadata": {},
     "output_type": "execute_result"
    }
   ],
   "source": [
    "r_high_by_user.book_id.sample(5).values[0]"
   ]
  },
  {
   "cell_type": "code",
   "execution_count": 307,
   "id": "a9b0b7e4",
   "metadata": {},
   "outputs": [
    {
     "data": {
      "text/plain": [
       "count    10000.000000\n",
       "mean       412.211100\n",
       "std        921.972938\n",
       "min          4.000000\n",
       "25%        103.000000\n",
       "50%        170.000000\n",
       "75%        347.000000\n",
       "max      18926.000000\n",
       "Name: book_id, dtype: float64"
      ]
     },
     "execution_count": 307,
     "metadata": {},
     "output_type": "execute_result"
    }
   ],
   "source": [
    "r_high_by_user.book_id.value_counts().describe()"
   ]
  },
  {
   "cell_type": "code",
   "execution_count": 43,
   "id": "ea23d11f",
   "metadata": {},
   "outputs": [
    {
     "data": {
      "text/plain": [
       "['a', 'b', 'c']"
      ]
     },
     "execution_count": 43,
     "metadata": {},
     "output_type": "execute_result"
    }
   ],
   "source": [
    "a = dict.fromkeys(['a','b','c'],[])\n",
    "list(a.keys())\n"
   ]
  },
  {
   "cell_type": "code",
   "execution_count": 611,
   "id": "0c49b829",
   "metadata": {},
   "outputs": [
    {
     "data": {
      "text/html": [
       "<div>\n",
       "<style scoped>\n",
       "    .dataframe tbody tr th:only-of-type {\n",
       "        vertical-align: middle;\n",
       "    }\n",
       "\n",
       "    .dataframe tbody tr th {\n",
       "        vertical-align: top;\n",
       "    }\n",
       "\n",
       "    .dataframe thead th {\n",
       "        text-align: right;\n",
       "    }\n",
       "</style>\n",
       "<table border=\"1\" class=\"dataframe\">\n",
       "  <thead>\n",
       "    <tr style=\"text-align: right;\">\n",
       "      <th></th>\n",
       "      <th>user_id</th>\n",
       "      <th>book_id</th>\n",
       "      <th>rating</th>\n",
       "    </tr>\n",
       "  </thead>\n",
       "  <tbody>\n",
       "    <tr>\n",
       "      <th>0</th>\n",
       "      <td>1</td>\n",
       "      <td>258</td>\n",
       "      <td>5</td>\n",
       "    </tr>\n",
       "    <tr>\n",
       "      <th>1936401</th>\n",
       "      <td>1</td>\n",
       "      <td>2770</td>\n",
       "      <td>4</td>\n",
       "    </tr>\n",
       "    <tr>\n",
       "      <th>1936403</th>\n",
       "      <td>1</td>\n",
       "      <td>198</td>\n",
       "      <td>4</td>\n",
       "    </tr>\n",
       "    <tr>\n",
       "      <th>1936419</th>\n",
       "      <td>1</td>\n",
       "      <td>1761</td>\n",
       "      <td>4</td>\n",
       "    </tr>\n",
       "    <tr>\n",
       "      <th>1936422</th>\n",
       "      <td>1</td>\n",
       "      <td>128</td>\n",
       "      <td>5</td>\n",
       "    </tr>\n",
       "    <tr>\n",
       "      <th>...</th>\n",
       "      <td>...</td>\n",
       "      <td>...</td>\n",
       "      <td>...</td>\n",
       "    </tr>\n",
       "    <tr>\n",
       "      <th>5404296</th>\n",
       "      <td>53424</td>\n",
       "      <td>9255</td>\n",
       "      <td>4</td>\n",
       "    </tr>\n",
       "    <tr>\n",
       "      <th>5404364</th>\n",
       "      <td>53424</td>\n",
       "      <td>43</td>\n",
       "      <td>5</td>\n",
       "    </tr>\n",
       "    <tr>\n",
       "      <th>5404333</th>\n",
       "      <td>53424</td>\n",
       "      <td>17</td>\n",
       "      <td>4</td>\n",
       "    </tr>\n",
       "    <tr>\n",
       "      <th>5404301</th>\n",
       "      <td>53424</td>\n",
       "      <td>4645</td>\n",
       "      <td>5</td>\n",
       "    </tr>\n",
       "    <tr>\n",
       "      <th>5404311</th>\n",
       "      <td>53424</td>\n",
       "      <td>24</td>\n",
       "      <td>5</td>\n",
       "    </tr>\n",
       "  </tbody>\n",
       "</table>\n",
       "<p>4122111 rows × 3 columns</p>\n",
       "</div>"
      ],
      "text/plain": [
       "         user_id  book_id  rating\n",
       "0              1      258       5\n",
       "1936401        1     2770       4\n",
       "1936403        1      198       4\n",
       "1936419        1     1761       4\n",
       "1936422        1      128       5\n",
       "...          ...      ...     ...\n",
       "5404296    53424     9255       4\n",
       "5404364    53424       43       5\n",
       "5404333    53424       17       4\n",
       "5404301    53424     4645       5\n",
       "5404311    53424       24       5\n",
       "\n",
       "[4122111 rows x 3 columns]"
      ]
     },
     "execution_count": 611,
     "metadata": {},
     "output_type": "execute_result"
    }
   ],
   "source": [
    "r_high_by_user"
   ]
  },
  {
   "cell_type": "code",
   "execution_count": 612,
   "id": "4b1a53df",
   "metadata": {},
   "outputs": [],
   "source": [
    "class dictGen():\n",
    "    def __init__(self,num_classes, batch_size,df,keys,values):\n",
    "        self.dict = self.__init_dict(df,keys,values)\n",
    "        self.keys = list(self.dict.keys())\n",
    "        self.num_classes = num_classes\n",
    "        self.batch_size = batch_size\n",
    "        \n",
    "        #iter vars\n",
    "        self.idx = 0\n",
    "        \n",
    "    def __next__(self):\n",
    "        if self.idx + self.batch_size > len(self.keys):\n",
    "            self.idx = 0\n",
    "            random.shuffle(self.keys)\n",
    "            \n",
    "        X, Y = [],[]\n",
    "        \n",
    "        for i in range(self.batch_size):\n",
    "            curr_user_idx = self.keys[self.idx]\n",
    "            curr_user_book_list = self.dict[curr_user_idx]\n",
    "            x,y = random.sample(curr_user_book_list,2)\n",
    "            \n",
    "            X.append(x)\n",
    "            Y.append(y)\n",
    "            self.idx +=1\n",
    "            \n",
    "        X = F.one_hot(torch.tensor(X)-1, self.num_classes).float()\n",
    "        Y = F.one_hot(torch.tensor(Y)-1, self.num_classes).float()\n",
    "        \n",
    "        return X.cuda(),Y.cuda()\n",
    "    \n",
    "    \n",
    "    def __iter__(self):\n",
    "        pass\n",
    "        \n",
    "    \n",
    "    def __init_dict(self,df,keys,values):\n",
    "        _list = list(zip(df[keys],df[values]))\n",
    "        c = collections.defaultdict(list)\n",
    "        for a,b in _list:\n",
    "            c[a].extend([b])\n",
    "            \n",
    "        for key in list(c.keys()):\n",
    "            if len(c[key]) < 2:\n",
    "                del c[key]\n",
    "        return c"
   ]
  },
  {
   "cell_type": "code",
   "execution_count": 313,
   "id": "b1b2743e",
   "metadata": {},
   "outputs": [
    {
     "data": {
      "text/plain": [
       "True"
      ]
     },
     "execution_count": 313,
     "metadata": {},
     "output_type": "execute_result"
    }
   ],
   "source": [
    "len([1]) == len([1]) ==len([1])\n"
   ]
  },
  {
   "cell_type": "code",
   "execution_count": 635,
   "id": "30d2ed18",
   "metadata": {},
   "outputs": [],
   "source": [
    "class NegativeSampleGen():\n",
    "    def __init__(self,num_classes, batch_size, num_neg_samples, df,keys,values):\n",
    "        self.df = df\n",
    "        self.keys = keys\n",
    "        self.values = values\n",
    "        self.dict = self.__init_dict(df,keys,values)\n",
    "        self.keys = list(self.dict.keys())\n",
    "        self.num_classes = num_classes\n",
    "        self.batch_size = batch_size\n",
    "        self.num_neg_samples = num_neg_samples\n",
    "        \n",
    "        self.idx = 0\n",
    "        \n",
    "    def __next__(self):\n",
    "        if self.idx + self.batch_size > len(self.keys):\n",
    "            self.idx = 0\n",
    "            random.shuffle(self.keys)\n",
    "            \n",
    "        context_list, X_list, labels = [], [], []\n",
    "        \n",
    "        for i in range(self.batch_size):\n",
    "            #print(i,labels)\n",
    "            curr_user_idx = self.keys[self.idx]\n",
    "            curr_user_book_list = self.dict[curr_user_idx]\n",
    "            context, positive = random.sample(curr_user_book_list, 2)\n",
    "            \n",
    "            contexts = [context for _ in range(self.num_neg_samples+1)]\n",
    "                        \n",
    "            negative_samples = list(self.df[self.values].sample(self.num_neg_samples).values)\n",
    "            \n",
    "            prop_list = [positive] + negative_samples\n",
    "            \n",
    "            label_list = [1] + [1 for _ in range(self.num_neg_samples)]\n",
    "            \n",
    "            assert(len(prop_list)==len(label_list)==len(contexts))\n",
    "            \n",
    "            context_list += (contexts)\n",
    "            X_list += (prop_list)\n",
    "            labels += (label_list)\n",
    "            \n",
    "            self.idx +=1\n",
    "        \n",
    "        assert(len(context_list)==len(X_list)==len(labels))\n",
    "        \n",
    "#         zipped = list(zip(context_list,X_list, labels))\n",
    "#         random.shuffle(zipped)\n",
    "        \n",
    "#         contexts, X, labels = zip(*zipped)\n",
    "                        \n",
    "        #contexts = F.one_hot(torch.tensor(context_list), self.num_classes).float()\n",
    "        X = F.one_hot(torch.tensor(X_list), self.num_classes).float()\n",
    "        contexts = torch.ones((X.shape))\n",
    "        labels = torch.tensor(labels).unsqueeze(dim=1).float()\n",
    "        \n",
    "        return contexts.cuda(), X.cuda(), labels.cuda()\n",
    "    \n",
    "    \n",
    "    def __iter__(self):\n",
    "        pass\n",
    "        \n",
    "    def __get_dist(self,df,value):\n",
    "        pass\n",
    "        \n",
    "    def __init_dict(self,df,keys,values):\n",
    "        _list = list(zip(df[keys],df[values]))\n",
    "        c = collections.defaultdict(list)\n",
    "        for a,b in _list:\n",
    "            c[a].extend([b])\n",
    "            \n",
    "        for key in list(c.keys()):\n",
    "            if len(c[key]) < 2:\n",
    "                del c[key]\n",
    "        print(len(c),'c length')\n",
    "        return c"
   ]
  },
  {
   "cell_type": "code",
   "execution_count": null,
   "id": "c760bab6",
   "metadata": {},
   "outputs": [],
   "source": []
  },
  {
   "cell_type": "code",
   "execution_count": null,
   "id": "27211d01",
   "metadata": {},
   "outputs": [],
   "source": []
  },
  {
   "cell_type": "code",
   "execution_count": 636,
   "id": "1524b77f",
   "metadata": {},
   "outputs": [
    {
     "name": "stdout",
     "output_type": "stream",
     "text": [
      "6 c length\n"
     ]
    }
   ],
   "source": [
    "dicGen = NegativeSampleGen(10001,4,4,r_high_by_user.head(300),'user_id', 'book_id')"
   ]
  },
  {
   "cell_type": "code",
   "execution_count": 637,
   "id": "f25ab877",
   "metadata": {},
   "outputs": [
    {
     "data": {
      "text/plain": [
       "torch.Size([20, 1])"
      ]
     },
     "execution_count": 637,
     "metadata": {},
     "output_type": "execute_result"
    }
   ],
   "source": [
    "dicGen.__next__()[2].shape\n"
   ]
  },
  {
   "cell_type": "code",
   "execution_count": 638,
   "id": "e26435e8",
   "metadata": {},
   "outputs": [
    {
     "name": "stdout",
     "output_type": "stream",
     "text": [
      "yes\n"
     ]
    },
    {
     "ename": "KeyboardInterrupt",
     "evalue": "",
     "output_type": "error",
     "traceback": [
      "\u001b[0;31m---------------------------------------------------------------------------\u001b[0m",
      "\u001b[0;31mKeyboardInterrupt\u001b[0m                         Traceback (most recent call last)",
      "\u001b[0;32m/tmp/ipykernel_76960/3960160733.py\u001b[0m in \u001b[0;36m<module>\u001b[0;34m\u001b[0m\n\u001b[1;32m      1\u001b[0m \u001b[0mget_ipython\u001b[0m\u001b[0;34m(\u001b[0m\u001b[0;34m)\u001b[0m\u001b[0;34m.\u001b[0m\u001b[0mrun_line_magic\u001b[0m\u001b[0;34m(\u001b[0m\u001b[0;34m'run'\u001b[0m\u001b[0;34m,\u001b[0m \u001b[0;34m'Training.ipynb'\u001b[0m\u001b[0;34m)\u001b[0m\u001b[0;34m\u001b[0m\u001b[0;34m\u001b[0m\u001b[0m\n\u001b[1;32m      2\u001b[0m \u001b[0mtrainer\u001b[0m \u001b[0;34m=\u001b[0m \u001b[0mContrastiveTrainer\u001b[0m\u001b[0;34m(\u001b[0m\u001b[0;36m3e-3\u001b[0m\u001b[0;34m,\u001b[0m\u001b[0;36m10001\u001b[0m\u001b[0;34m,\u001b[0m\u001b[0;36m300\u001b[0m\u001b[0;34m,\u001b[0m\u001b[0;36m0\u001b[0m\u001b[0;34m,\u001b[0m\u001b[0;36m25\u001b[0m\u001b[0;34m,\u001b[0m\u001b[0;34m'contrastive'\u001b[0m\u001b[0;34m,\u001b[0m\u001b[0;34m'./overfit9'\u001b[0m\u001b[0;34m,\u001b[0m\u001b[0mdicGen\u001b[0m\u001b[0;34m)\u001b[0m\u001b[0;34m\u001b[0m\u001b[0;34m\u001b[0m\u001b[0m\n\u001b[0;32m----> 3\u001b[0;31m \u001b[0mtrainer\u001b[0m\u001b[0;34m.\u001b[0m\u001b[0mtrain\u001b[0m\u001b[0;34m(\u001b[0m\u001b[0;36m5\u001b[0m\u001b[0;34m,\u001b[0m\u001b[0;36m40000\u001b[0m\u001b[0;34m)\u001b[0m\u001b[0;34m\u001b[0m\u001b[0;34m\u001b[0m\u001b[0m\n\u001b[0m\u001b[1;32m      4\u001b[0m \u001b[0;31m#trainer.model((z,y))\u001b[0m\u001b[0;34m\u001b[0m\u001b[0;34m\u001b[0m\u001b[0;34m\u001b[0m\u001b[0m\n",
      "\u001b[0;32m/tmp/ipykernel_76960/1670752119.py\u001b[0m in \u001b[0;36mtrain\u001b[0;34m(self, num_epochs, batches_per_epoch)\u001b[0m\n\u001b[1;32m     34\u001b[0m             \u001b[0;32mfor\u001b[0m \u001b[0mbatch\u001b[0m \u001b[0;32min\u001b[0m \u001b[0mrange\u001b[0m\u001b[0;34m(\u001b[0m\u001b[0mbatches_per_epoch\u001b[0m\u001b[0;34m)\u001b[0m\u001b[0;34m:\u001b[0m\u001b[0;34m\u001b[0m\u001b[0;34m\u001b[0m\u001b[0m\n\u001b[1;32m     35\u001b[0m                 \u001b[0mcontext\u001b[0m\u001b[0;34m,\u001b[0m \u001b[0mX\u001b[0m\u001b[0;34m,\u001b[0m \u001b[0mlabels\u001b[0m\u001b[0;34m=\u001b[0m \u001b[0mself\u001b[0m\u001b[0;34m.\u001b[0m\u001b[0mgenerator\u001b[0m\u001b[0;34m.\u001b[0m\u001b[0m__next__\u001b[0m\u001b[0;34m(\u001b[0m\u001b[0;34m)\u001b[0m\u001b[0;34m\u001b[0m\u001b[0;34m\u001b[0m\u001b[0m\n\u001b[0;32m---> 36\u001b[0;31m                 \u001b[0mself\u001b[0m\u001b[0;34m.\u001b[0m\u001b[0mtrain_on\u001b[0m\u001b[0;34m(\u001b[0m\u001b[0mcontext\u001b[0m\u001b[0;34m,\u001b[0m \u001b[0mX\u001b[0m\u001b[0;34m,\u001b[0m \u001b[0mlabels\u001b[0m\u001b[0;34m)\u001b[0m\u001b[0;34m\u001b[0m\u001b[0;34m\u001b[0m\u001b[0m\n\u001b[0m\u001b[1;32m     37\u001b[0m \u001b[0;34m\u001b[0m\u001b[0m\n\u001b[1;32m     38\u001b[0m             \u001b[0mself\u001b[0m\u001b[0;34m.\u001b[0m\u001b[0mon_epoch_tasks\u001b[0m\u001b[0;34m(\u001b[0m\u001b[0;34m)\u001b[0m\u001b[0;34m\u001b[0m\u001b[0;34m\u001b[0m\u001b[0m\n",
      "\u001b[0;32m/tmp/ipykernel_76960/1670752119.py\u001b[0m in \u001b[0;36mtrain_on\u001b[0;34m(self, context, X, labels)\u001b[0m\n\u001b[1;32m     47\u001b[0m         \u001b[0mloss\u001b[0m \u001b[0;34m=\u001b[0m \u001b[0mself\u001b[0m\u001b[0;34m.\u001b[0m\u001b[0mloss\u001b[0m\u001b[0;34m(\u001b[0m\u001b[0mout\u001b[0m\u001b[0;34m,\u001b[0m\u001b[0mlabels\u001b[0m\u001b[0;34m)\u001b[0m\u001b[0;34m\u001b[0m\u001b[0;34m\u001b[0m\u001b[0m\n\u001b[1;32m     48\u001b[0m         \u001b[0mself\u001b[0m\u001b[0;34m.\u001b[0m\u001b[0moptim\u001b[0m\u001b[0;34m.\u001b[0m\u001b[0mzero_grad\u001b[0m\u001b[0;34m(\u001b[0m\u001b[0;34m)\u001b[0m\u001b[0;34m\u001b[0m\u001b[0;34m\u001b[0m\u001b[0m\n\u001b[0;32m---> 49\u001b[0;31m         \u001b[0mloss\u001b[0m\u001b[0;34m.\u001b[0m\u001b[0mbackward\u001b[0m\u001b[0;34m(\u001b[0m\u001b[0;34m)\u001b[0m\u001b[0;34m\u001b[0m\u001b[0;34m\u001b[0m\u001b[0m\n\u001b[0m\u001b[1;32m     50\u001b[0m \u001b[0;34m\u001b[0m\u001b[0m\n\u001b[1;32m     51\u001b[0m         \u001b[0mself\u001b[0m\u001b[0;34m.\u001b[0m\u001b[0mlogger\u001b[0m\u001b[0;34m.\u001b[0m\u001b[0mlog\u001b[0m\u001b[0;34m(\u001b[0m\u001b[0;34m'loss'\u001b[0m\u001b[0;34m,\u001b[0m \u001b[0mloss\u001b[0m\u001b[0;34m)\u001b[0m\u001b[0;34m\u001b[0m\u001b[0;34m\u001b[0m\u001b[0m\n",
      "\u001b[0;32m~/anaconda3/envs/prawn/lib/python3.7/site-packages/torch/_tensor.py\u001b[0m in \u001b[0;36mbackward\u001b[0;34m(self, gradient, retain_graph, create_graph, inputs)\u001b[0m\n\u001b[1;32m    253\u001b[0m                 \u001b[0mcreate_graph\u001b[0m\u001b[0;34m=\u001b[0m\u001b[0mcreate_graph\u001b[0m\u001b[0;34m,\u001b[0m\u001b[0;34m\u001b[0m\u001b[0;34m\u001b[0m\u001b[0m\n\u001b[1;32m    254\u001b[0m                 inputs=inputs)\n\u001b[0;32m--> 255\u001b[0;31m         \u001b[0mtorch\u001b[0m\u001b[0;34m.\u001b[0m\u001b[0mautograd\u001b[0m\u001b[0;34m.\u001b[0m\u001b[0mbackward\u001b[0m\u001b[0;34m(\u001b[0m\u001b[0mself\u001b[0m\u001b[0;34m,\u001b[0m \u001b[0mgradient\u001b[0m\u001b[0;34m,\u001b[0m \u001b[0mretain_graph\u001b[0m\u001b[0;34m,\u001b[0m \u001b[0mcreate_graph\u001b[0m\u001b[0;34m,\u001b[0m \u001b[0minputs\u001b[0m\u001b[0;34m=\u001b[0m\u001b[0minputs\u001b[0m\u001b[0;34m)\u001b[0m\u001b[0;34m\u001b[0m\u001b[0;34m\u001b[0m\u001b[0m\n\u001b[0m\u001b[1;32m    256\u001b[0m \u001b[0;34m\u001b[0m\u001b[0m\n\u001b[1;32m    257\u001b[0m     \u001b[0;32mdef\u001b[0m \u001b[0mregister_hook\u001b[0m\u001b[0;34m(\u001b[0m\u001b[0mself\u001b[0m\u001b[0;34m,\u001b[0m \u001b[0mhook\u001b[0m\u001b[0;34m)\u001b[0m\u001b[0;34m:\u001b[0m\u001b[0;34m\u001b[0m\u001b[0;34m\u001b[0m\u001b[0m\n",
      "\u001b[0;32m~/anaconda3/envs/prawn/lib/python3.7/site-packages/torch/autograd/__init__.py\u001b[0m in \u001b[0;36mbackward\u001b[0;34m(tensors, grad_tensors, retain_graph, create_graph, grad_variables, inputs)\u001b[0m\n\u001b[1;32m    147\u001b[0m     Variable._execution_engine.run_backward(\n\u001b[1;32m    148\u001b[0m         \u001b[0mtensors\u001b[0m\u001b[0;34m,\u001b[0m \u001b[0mgrad_tensors_\u001b[0m\u001b[0;34m,\u001b[0m \u001b[0mretain_graph\u001b[0m\u001b[0;34m,\u001b[0m \u001b[0mcreate_graph\u001b[0m\u001b[0;34m,\u001b[0m \u001b[0minputs\u001b[0m\u001b[0;34m,\u001b[0m\u001b[0;34m\u001b[0m\u001b[0;34m\u001b[0m\u001b[0m\n\u001b[0;32m--> 149\u001b[0;31m         allow_unreachable=True, accumulate_grad=True)  # allow_unreachable flag\n\u001b[0m\u001b[1;32m    150\u001b[0m \u001b[0;34m\u001b[0m\u001b[0m\n\u001b[1;32m    151\u001b[0m \u001b[0;34m\u001b[0m\u001b[0m\n",
      "\u001b[0;31mKeyboardInterrupt\u001b[0m: "
     ]
    }
   ],
   "source": [
    "%run Training.ipynb\n",
    "trainer = ContrastiveTrainer(3e-3,10001,300,0,25,'contrastive','./overfit9',dicGen)\n",
    "trainer.train(5,40000)\n",
    "#trainer.model((z,y))\n"
   ]
  },
  {
   "cell_type": "code",
   "execution_count": null,
   "id": "213c1b6a",
   "metadata": {},
   "outputs": [],
   "source": [
    "context, X, _ = dicGen.__next__()\n",
    "twinNetwork((context,X))"
   ]
  },
  {
   "cell_type": "code",
   "execution_count": 261,
   "id": "0fd5e212",
   "metadata": {},
   "outputs": [],
   "source": [
    "dicGen = dictGen(10000,256,r_high_by_user,'user_id', 'book_id')"
   ]
  }
 ],
 "metadata": {
  "kernelspec": {
   "display_name": "Python 3 (ipykernel)",
   "language": "python",
   "name": "python3"
  },
  "language_info": {
   "codemirror_mode": {
    "name": "ipython",
    "version": 3
   },
   "file_extension": ".py",
   "mimetype": "text/x-python",
   "name": "python",
   "nbconvert_exporter": "python",
   "pygments_lexer": "ipython3",
   "version": "3.7.11"
  }
 },
 "nbformat": 4,
 "nbformat_minor": 5
}
